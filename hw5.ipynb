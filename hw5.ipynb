{
 "cells": [
  {
   "cell_type": "code",
   "execution_count": null,
   "id": "870a11e6-bc44-45e1-a7fe-9e51e0a2470c",
   "metadata": {},
   "outputs": [],
   "source": [
    "10.1-Least squares\n"
   ]
  },
  {
   "cell_type": "code",
   "execution_count": 13,
   "id": "f35fdf20-770e-443a-88bd-708afdd57298",
   "metadata": {},
   "outputs": [
    {
     "data": {
      "text/plain": [
       "115.44787114331001"
      ]
     },
     "execution_count": 13,
     "metadata": {},
     "output_type": "execute_result"
    }
   ],
   "source": [
    "from scipy.optimize import nnls\n",
    "from numpy import random\n",
    "import numpy as np\n",
    "\n",
    "def least_squares(x, y):\n",
    "    size = (x,y)\n",
    "    b = np.zeros(x)\n",
    "    for i in range(x):\n",
    "        b[i] = np.random.randint(100)\n",
    "    A = np.zeros(size)\n",
    "    for i in range(x):\n",
    "        \n",
    "        for j in range(y):\n",
    "            \n",
    "            A[i][j] = np.random.randint(100)\n",
    "    x = nnls(A, b)\n",
    "    return x[1]\n",
    "least_squares(5,2)"
   ]
  },
  {
   "cell_type": "code",
   "execution_count": null,
   "id": "d91e9971-a7dd-490a-9d01-119b9d008c4d",
   "metadata": {},
   "outputs": [],
   "source": [
    "10.2-Optimization\n"
   ]
  },
  {
   "cell_type": "code",
   "execution_count": 18,
   "id": "08bdcc1e-0dd7-4c7b-bc5b-b7eabc63c6d2",
   "metadata": {},
   "outputs": [
    {
     "name": "stdout",
     "output_type": "stream",
     "text": [
      "Optimization terminated successfully.\n",
      "         Current function value: -0.911685\n",
      "         Iterations: 20\n",
      "         Function evaluations: 40\n",
      "[0.21625]\n",
      "[0.91168541]\n"
     ]
    }
   ],
   "source": [
    "import scipy\n",
    "import math\n",
    "def f(x):\n",
    "    return (np.sin(x - 2) ** 2) * ((math.e) ** (-(x ** 2)))\n",
    "max = scipy.optimize.fmin(lambda x: -f(x), 0)\n",
    "print(max) \n",
    "print(f(max))"
   ]
  },
  {
   "cell_type": "code",
   "execution_count": null,
   "id": "d413780b-df83-4e8f-8534-8cefcd1559f8",
   "metadata": {},
   "outputs": [],
   "source": [
    "11.1-Plotting a function\n"
   ]
  },
  {
   "cell_type": "code",
   "execution_count": 19,
   "id": "5ed017e4-1d75-44f9-8904-680497830e8a",
   "metadata": {},
   "outputs": [
    {
     "data": {
      "image/png": "[encoded data removed]",
      "text/plain": [
       "<Figure size 432x288 with 1 Axes>"
      ]
     },
     "metadata": {
      "needs_background": "light"
     },
     "output_type": "display_data"
    }
   ],
   "source": [
    "import matplotlib.pyplot as plt\n",
    "import numpy as np\n",
    "\n",
    "x = np.linspace(0,2)\n",
    "plt.plot(x, f(x))\n",
    "plt.show()"
   ]
  }
 ],
 "metadata": {
  "kernelspec": {
   "display_name": "Python 3 (ipykernel)",
   "language": "python",
   "name": "python3"
  },
  "language_info": {
   "codemirror_mode": {
    "name": "ipython",
    "version": 3
   },
   "file_extension": ".py",
   "mimetype": "text/x-python",
   "name": "python",
   "nbconvert_exporter": "python",
   "pygments_lexer": "ipython3",
   "version": "3.10.4"
  }
 },
 "nbformat": 4,
 "nbformat_minor": 5
}
